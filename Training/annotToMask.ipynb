{
 "cells": [
  {
   "cell_type": "code",
   "execution_count": 1,
   "metadata": {},
   "outputs": [],
   "source": [
    "from pycocotools.coco import COCO\n",
    "import os\n",
    "from PIL import Image\n",
    "import numpy as np\n",
    "from matplotlib import pyplot as plt\n",
    "import matplotlib\n",
    "%matplotlib inline"
   ]
  },
  {
   "cell_type": "code",
   "execution_count": 2,
   "metadata": {},
   "outputs": [],
   "source": [
    "# coco = COCO('../DATA/Sidewalk Detection/train/_annotations.coco.json')\n",
    "# img_dir = '../DATA/Sidewalk Detection/train'\n",
    "# img = coco.imgs[2]\n",
    "# image = np.array(Image.open(os.path.join(img_dir, img['file_name'])))\n",
    "# plt.imshow(image, interpolation='nearest')\n",
    "# plt.show()"
   ]
  },
  {
   "cell_type": "code",
   "execution_count": 3,
   "metadata": {},
   "outputs": [],
   "source": [
    "# plt.imshow(image)\n",
    "# cat_ids = coco.getCatIds()\n",
    "# anns_ids = coco.getAnnIds(imgIds=img['id'], catIds=cat_ids, iscrowd=None)\n",
    "# anns = coco.loadAnns(anns_ids)\n",
    "# coco.showAnns(anns)"
   ]
  },
  {
   "cell_type": "code",
   "execution_count": 4,
   "metadata": {},
   "outputs": [
    {
     "name": "stdout",
     "output_type": "stream",
     "text": [
      "loading annotations into memory...\n",
      "Done (t=0.01s)\n",
      "creating index...\n",
      "index created!\n"
     ]
    }
   ],
   "source": [
    "coco = COCO('../DATA/Sidewalk Detection v2/train/_annotations.coco.json')\n",
    "img_dir = '../DATA/Sidewalk Detection v2/train'\n",
    "\n",
    "for i in range(len(coco.imgs)):\n",
    "\n",
    "    img = coco.imgs[i]\n",
    "    img_name = img['file_name']\n",
    "    image = np.array(Image.open(os.path.join(img_dir, img_name)))\n",
    "    \n",
    "    cat_ids = coco.getCatIds()\n",
    "    anns_ids = coco.getAnnIds(imgIds=img['id'], catIds=cat_ids, iscrowd=None)\n",
    "    anns = coco.loadAnns(anns_ids)\n",
    "    mask = coco.annToMask(anns[0])\n",
    "\n",
    "    for j in range(len(anns)):\n",
    "        mask += coco.annToMask(anns[j])\n",
    "\n",
    "\n",
    "    matplotlib.image.imsave('../DATA/Sidewalk Detection v2/trainannot/{imgN}'.format(imgN = img_name), mask, cmap='gray')\n",
    "\n",
    "    # plt.imshow(mask, cmap='gray')\n",
    "    # plt.axis('off')\n",
    "    # plt.savefig('../DATA/Sidewalk Detection/testannot/{imgN}'.format(imgN = img_name), bbox_inches='tight', pad_inches=0)\n",
    "\n"
   ]
  }
 ],
 "metadata": {
  "interpreter": {
   "hash": "30f2ca2094e7e932f856ec9d62dd05c388757a20e03220a20a1b4c366aa3310d"
  },
  "kernelspec": {
   "display_name": "Python 3.9.7 ('base')",
   "language": "python",
   "name": "python3"
  },
  "language_info": {
   "codemirror_mode": {
    "name": "ipython",
    "version": 3
   },
   "file_extension": ".py",
   "mimetype": "text/x-python",
   "name": "python",
   "nbconvert_exporter": "python",
   "pygments_lexer": "ipython3",
   "version": "3.9.7"
  },
  "orig_nbformat": 4
 },
 "nbformat": 4,
 "nbformat_minor": 2
}
